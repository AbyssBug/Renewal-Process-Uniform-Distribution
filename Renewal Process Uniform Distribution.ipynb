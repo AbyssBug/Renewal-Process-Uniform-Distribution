{
 "cells": [
  {
   "cell_type": "code",
   "execution_count": 1,
   "id": "60ebb5ea",
   "metadata": {},
   "outputs": [],
   "source": [
    "import pandas as pd\n",
    "import numpy as np\n",
    "import random"
   ]
  },
  {
   "cell_type": "markdown",
   "id": "4e31aede",
   "metadata": {},
   "source": [
    "## Write Python ( or any other language ) program to simulate this behavior .\n",
    "\n",
    "1. Set Sum = 0\n",
    "2. Set Count = 0\n",
    "3. Generate random variable with U [0,1] = x\n",
    "4. Sum = Sum + x\n",
    "5. Count = Count + 1\n",
    "6. If (Sum < 1), then Repeat Step 3\n",
    "7. Keep Count value in list\n",
    "8. Repeat 1 to 6 steps 10000 times\n",
    "9. Find the average of Count"
   ]
  },
  {
   "cell_type": "code",
   "execution_count": 2,
   "id": "80f94f7e",
   "metadata": {},
   "outputs": [],
   "source": [
    "s = 0 #set sum = 0\n",
    "count = 0 #set count = 0\n",
    "countvec = [] #create a list to store values of counts\n",
    "\n",
    "for i in range(10000):# for every iteration set initial values\n",
    "    x = random.uniform(0,1)\n",
    "    s = 0\n",
    "    count = 0\n",
    "    while s < 1:# keep iterating till sum >= 1\n",
    "        s += x\n",
    "        count += 1\n",
    "        x = round(random.uniform(0,1),1)\n",
    "    countvec.append(count) \n"
   ]
  },
  {
   "cell_type": "code",
   "execution_count": 3,
   "id": "57635417",
   "metadata": {},
   "outputs": [
    {
     "data": {
      "text/plain": [
       "2.7426"
      ]
     },
     "execution_count": 3,
     "metadata": {},
     "output_type": "execute_result"
    }
   ],
   "source": [
    "# in the long run, the number of uniform random variates\n",
    "# needed to get a sum >= 1 \n",
    "sum(countvec)/10000\n",
    "# value approximates to e"
   ]
  },
  {
   "cell_type": "markdown",
   "id": "f129e034",
   "metadata": {},
   "source": [
    "## Repeat the task for rolling a die"
   ]
  },
  {
   "cell_type": "code",
   "execution_count": 4,
   "id": "2826a3fe",
   "metadata": {},
   "outputs": [],
   "source": [
    "s = 0 #set sum = 0\n",
    "count = 0 #set count = 0\n",
    "countvec = [] #create a list to store values of counts\n",
    "die_roll = [1,2,3,4,5,6] # sample space for rolling a die\n",
    "for i in range(10000):# for every iteration set initial values\n",
    "    x = random.sample(die_roll,1)\n",
    "    s = 0\n",
    "    count = 0\n",
    "    while s < 7:# keep iterating till sum >= 1\n",
    "        s += x[0]\n",
    "        count += 1\n",
    "        x = random.sample(die_roll,1)\n",
    "    countvec.append(count) "
   ]
  },
  {
   "cell_type": "code",
   "execution_count": 5,
   "id": "e05998c7",
   "metadata": {},
   "outputs": [
    {
     "data": {
      "text/plain": [
       "2.5281"
      ]
     },
     "execution_count": 5,
     "metadata": {},
     "output_type": "execute_result"
    }
   ],
   "source": [
    "sum(countvec)/10000"
   ]
  },
  {
   "cell_type": "code",
   "execution_count": null,
   "id": "7f4f727e",
   "metadata": {},
   "outputs": [],
   "source": []
  }
 ],
 "metadata": {
  "kernelspec": {
   "display_name": "Python 3",
   "language": "python",
   "name": "python3"
  },
  "language_info": {
   "codemirror_mode": {
    "name": "ipython",
    "version": 3
   },
   "file_extension": ".py",
   "mimetype": "text/x-python",
   "name": "python",
   "nbconvert_exporter": "python",
   "pygments_lexer": "ipython3",
   "version": "3.8.8"
  }
 },
 "nbformat": 4,
 "nbformat_minor": 5
}
