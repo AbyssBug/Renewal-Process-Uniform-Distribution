{
 "cells": [
  {
   "cell_type": "code",
   "execution_count": 5,
   "id": "60ebb5ea",
   "metadata": {},
   "outputs": [],
   "source": [
    "import pandas as pd\n",
    "import numpy as np\n",
    "import random"
   ]
  },
  {
   "cell_type": "code",
   "execution_count": 99,
   "id": "e9ab77a9",
   "metadata": {},
   "outputs": [],
   "source": [
    "s = 0 #set sum = 0\n",
    "count = 0 #set count = 0\n",
    "countvec = [] #create a list to store values of counts\n",
    "\n",
    "for i in range(10000):# for every iteration set initial values\n",
    "    x = random.uniform(0,1)\n",
    "    s = 0\n",
    "    count = 0\n",
    "    while s < 1:# keep iterating till sum >= 1\n",
    "        s += x\n",
    "        count += 1\n",
    "        x = round(random.uniform(0,1),1)\n",
    "    countvec.append(count) \n"
   ]
  },
  {
   "cell_type": "code",
   "execution_count": 101,
   "id": "50a199d4",
   "metadata": {},
   "outputs": [
    {
     "data": {
      "text/plain": [
       "2.7173"
      ]
     },
     "execution_count": 101,
     "metadata": {},
     "output_type": "execute_result"
    }
   ],
   "source": [
    "# in the long run, the number of uniform random variates\n",
    "# needed to get a sum >= 1 \n",
    "sum(countvec)/10000\n",
    "# value approximates to e"
   ]
  },
  {
   "cell_type": "code",
   "execution_count": null,
   "id": "32cddce3",
   "metadata": {},
   "outputs": [],
   "source": []
  }
 ],
 "metadata": {
  "kernelspec": {
   "display_name": "Python 3",
   "language": "python",
   "name": "python3"
  },
  "language_info": {
   "codemirror_mode": {
    "name": "ipython",
    "version": 3
   },
   "file_extension": ".py",
   "mimetype": "text/x-python",
   "name": "python",
   "nbconvert_exporter": "python",
   "pygments_lexer": "ipython3",
   "version": "3.8.8"
  }
 },
 "nbformat": 4,
 "nbformat_minor": 5
}
